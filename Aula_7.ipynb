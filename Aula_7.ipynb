{
  "nbformat": 4,
  "nbformat_minor": 0,
  "metadata": {
    "colab": {
      "provenance": []
    },
    "kernelspec": {
      "name": "python3",
      "display_name": "Python 3"
    },
    "language_info": {
      "name": "python"
    }
  },
  "cells": [
    {
      "cell_type": "markdown",
      "source": [
        "Aula 7\n"
      ],
      "metadata": {
        "id": "sMM7Ib9lIF_i"
      }
    },
    {
      "cell_type": "code",
      "execution_count": null,
      "metadata": {
        "colab": {
          "base_uri": "https://localhost:8080/"
        },
        "id": "uMF34mK_IBl1",
        "outputId": "bd31036c-c6a2-4b5e-b353-e9099e02c346"
      },
      "outputs": [
        {
          "output_type": "stream",
          "name": "stdout",
          "text": [
            "100\n",
            "16\n"
          ]
        }
      ],
      "source": [
        "import numpy as np\n",
        "\n",
        "class Quadrado:\n",
        "  def __init__(self,lado):\n",
        "    self.lado=lado\n",
        "\n",
        "  def area(self):\n",
        "    return self.lado**2\n",
        "\n",
        "q1 = Quadrado(10)\n",
        "q2 = Quadrado(4)\n",
        "\n",
        "print(q1.area())\n",
        "print(q2.area())"
      ]
    },
    {
      "cell_type": "code",
      "source": [
        "class Triangulo:\n",
        "  base=0\n",
        "  altura=0\n",
        "  def __init__(self,b,h):\n",
        "    self.base=b\n",
        "    self.altura=h\n",
        "  def area(self):\n",
        "    return self.base*self.altura/2\n",
        "\n",
        "q1 = Triangulo(4,5)\n",
        "print(q1.area())"
      ],
      "metadata": {
        "colab": {
          "base_uri": "https://localhost:8080/"
        },
        "id": "VV4spP1uKkeM",
        "outputId": "fbebdc08-69c2-42c8-d55e-6ddb3991c59c"
      },
      "execution_count": null,
      "outputs": [
        {
          "output_type": "stream",
          "name": "stdout",
          "text": [
            "10.0\n"
          ]
        }
      ]
    },
    {
      "cell_type": "markdown",
      "source": [
        "O matemático Srimivasa Ramamnjan descobriu uma série infinita que pode  ser utilizada para encontrar uma aproximação do valor de 1/pi.\n",
        "\n",
        "1/pi = 2sqrt2/9801 somatorio (k=0,infinito) (4k)!*(1103+26390k)/(k!)^4*396^4k\n",
        "\n",
        "## Exercício 1) Escrever uma funçao \"estimar_pi\" que utiliza a fórmula de Ramamnjan para calcular o valor de pi. A função deve utilizar um while para calcular os termos da adição até que o último termo seja menor que 1e-15."
      ],
      "metadata": {
        "id": "H_hmuvT9Mn9u"
      }
    },
    {
      "cell_type": "code",
      "source": [
        "import math\n",
        "\n",
        "def fatorial(n):\n",
        "  if n == 0:\n",
        "    return 1\n",
        "  else: \n",
        "    recurse = fatorial(n-1)\n",
        "  \n",
        "  result = recurse*n\n",
        "\n",
        "  return result\n",
        "\n",
        "print(fatorial(40))"
      ],
      "metadata": {
        "colab": {
          "base_uri": "https://localhost:8080/"
        },
        "id": "JIZftKdNOiBS",
        "outputId": "5da6dfdc-bcd4-4757-e80a-5cd379ecb326"
      },
      "execution_count": null,
      "outputs": [
        {
          "output_type": "stream",
          "name": "stdout",
          "text": [
            "815915283247897734345611269596115894272000000000\n"
          ]
        }
      ]
    }
  ]
}