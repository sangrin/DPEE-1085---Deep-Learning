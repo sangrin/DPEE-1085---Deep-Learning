{
  "nbformat": 4,
  "nbformat_minor": 0,
  "metadata": {
    "colab": {
      "provenance": [],
      "collapsed_sections": []
    },
    "kernelspec": {
      "name": "python3",
      "display_name": "Python 3"
    },
    "language_info": {
      "name": "python"
    }
  },
  "cells": [
    {
      "cell_type": "markdown",
      "source": [
        "Aula 5"
      ],
      "metadata": {
        "id": "BiuXiKtqFrw5"
      }
    },
    {
      "cell_type": "code",
      "source": [
        "# parenteses = tupla\n",
        "# colchete = lista"
      ],
      "metadata": {
        "id": "k3l-aCh4NDtw"
      },
      "execution_count": null,
      "outputs": []
    },
    {
      "cell_type": "code",
      "source": [
        "import numpy as np\n",
        "import matplotlib as plt"
      ],
      "metadata": {
        "id": "cZqbdEqdFtbx"
      },
      "execution_count": 2,
      "outputs": []
    },
    {
      "cell_type": "code",
      "source": [
        "frutas = np.array(['banana','bergamota','uva','abacaxi'])\n",
        "\n",
        "for fruta in frutas:\n",
        "  print(fruta)"
      ],
      "metadata": {
        "colab": {
          "base_uri": "https://localhost:8080/"
        },
        "id": "JegJHXCtF7e8",
        "outputId": "c83f873f-3b6a-4b30-98c7-17dbea049141"
      },
      "execution_count": 3,
      "outputs": [
        {
          "output_type": "stream",
          "name": "stdout",
          "text": [
            "banana\n",
            "bergamota\n",
            "uva\n",
            "abacaxi\n"
          ]
        }
      ]
    },
    {
      "cell_type": "code",
      "source": [
        "a = np.array([1,3,5,12,17,524]) #matriz\n",
        "b = [1,3,5,12,17,524] #lista\n",
        "\n",
        "print(b*3)\n",
        "print(a*3)"
      ],
      "metadata": {
        "colab": {
          "base_uri": "https://localhost:8080/"
        },
        "id": "_E-ua1irGi4K",
        "outputId": "dde208f0-a72e-4942-fc00-8a91d3833193"
      },
      "execution_count": 5,
      "outputs": [
        {
          "output_type": "stream",
          "name": "stdout",
          "text": [
            "[1, 3, 5, 12, 17, 524, 1, 3, 5, 12, 17, 524, 1, 3, 5, 12, 17, 524]\n",
            "[   3    9   15   36   51 1572]\n"
          ]
        }
      ]
    },
    {
      "cell_type": "code",
      "source": [
        "m = [[10,20],[30,40]]\n",
        "\n",
        "print(m[1][0])"
      ],
      "metadata": {
        "colab": {
          "base_uri": "https://localhost:8080/"
        },
        "id": "f5Y6IfvVH43b",
        "outputId": "058b6151-1116-48c2-8a9d-a9419d6151e9"
      },
      "execution_count": 6,
      "outputs": [
        {
          "output_type": "stream",
          "name": "stdout",
          "text": [
            "30\n"
          ]
        }
      ]
    },
    {
      "cell_type": "code",
      "source": [
        "m = np.array([[10,20],[30,40]])\n",
        "\n",
        "print(m[1,0])"
      ],
      "metadata": {
        "colab": {
          "base_uri": "https://localhost:8080/"
        },
        "id": "cJi689NdIXJB",
        "outputId": "aeb19634-5c02-4e0b-b948-585b987a4216"
      },
      "execution_count": 8,
      "outputs": [
        {
          "output_type": "stream",
          "name": "stdout",
          "text": [
            "30\n"
          ]
        }
      ]
    },
    {
      "cell_type": "code",
      "source": [
        "m = np.array([[[10,20],[30,40]],[[50,60],[70,80]]])\n",
        "\n",
        "print(m[1,0])\n",
        "print(m[1,0,1])\n",
        "print(m.shape)\n",
        "print(len(m.shape))"
      ],
      "metadata": {
        "colab": {
          "base_uri": "https://localhost:8080/"
        },
        "id": "Kf-ZTCeOIxKF",
        "outputId": "33bee645-632c-48d1-ca3f-6e41c636477c"
      },
      "execution_count": 18,
      "outputs": [
        {
          "output_type": "stream",
          "name": "stdout",
          "text": [
            "[50 60]\n",
            "60\n",
            "(2, 2, 2)\n",
            "3\n"
          ]
        }
      ]
    },
    {
      "cell_type": "code",
      "source": [
        "m1 = np.random.random((2,2,3))\n",
        "m2 = np.random.random((4,2))\n",
        "m3 = np.random.random((8,5))\n",
        "\n",
        "print(m3)\n",
        "print(m3[1,2:4]) #intervalo 2 ao 4"
      ],
      "metadata": {
        "colab": {
          "base_uri": "https://localhost:8080/"
        },
        "id": "Tynjq7ijK0AU",
        "outputId": "289bc5ec-9ca4-4668-fe67-f2fd70f28d73"
      },
      "execution_count": 17,
      "outputs": [
        {
          "output_type": "stream",
          "name": "stdout",
          "text": [
            "[[0.06015317 0.35779435 0.20152063 0.64703509 0.45591501]\n",
            " [0.54920485 0.4584674  0.78640211 0.20120782 0.30173404]\n",
            " [0.30469889 0.05407285 0.06734106 0.33994119 0.04213351]\n",
            " [0.21917807 0.971331   0.0124223  0.42578257 0.34698131]\n",
            " [0.08221112 0.35537786 0.70859043 0.69699352 0.6025044 ]\n",
            " [0.62447132 0.24640358 0.07531278 0.40402183 0.7099423 ]\n",
            " [0.17685692 0.27437872 0.88406877 0.91302364 0.17442578]\n",
            " [0.74655407 0.10986465 0.5039701  0.89835804 0.4524755 ]]\n",
            "[0.78640211 0.20120782]\n"
          ]
        }
      ]
    },
    {
      "cell_type": "code",
      "source": [
        "m4 = np.random.random((8,5)) #matriz 8x5\n",
        "print(m4)\n",
        "\n",
        "m4[1,1:4] = np.array([10,100,100]) #na linha 1 de m4, substitui os elementos de 1 a 4\n",
        "print(m4)"
      ],
      "metadata": {
        "colab": {
          "base_uri": "https://localhost:8080/"
        },
        "id": "uc_xtZtCL0kr",
        "outputId": "279ab619-6728-4878-f399-8a64b144f593"
      },
      "execution_count": 21,
      "outputs": [
        {
          "output_type": "stream",
          "name": "stdout",
          "text": [
            "[[0.48452024 0.56493211 0.34917354 0.82306489 0.51189285]\n",
            " [0.58099083 0.15898278 0.45693911 0.16365153 0.55464173]\n",
            " [0.10789283 0.34622962 0.58307058 0.38450747 0.41471946]\n",
            " [0.34029164 0.69394849 0.56211557 0.76382454 0.94384502]\n",
            " [0.07055877 0.43071399 0.37685378 0.51351693 0.01926962]\n",
            " [0.33318423 0.69547775 0.49415339 0.00614496 0.25160066]\n",
            " [0.8085411  0.34987864 0.26390226 0.26055283 0.75660262]\n",
            " [0.61018104 0.93048392 0.73335837 0.24007261 0.80606455]]\n",
            "[[4.84520241e-01 5.64932110e-01 3.49173543e-01 8.23064888e-01\n",
            "  5.11892848e-01]\n",
            " [5.80990825e-01 1.00000000e+01 1.00000000e+02 1.00000000e+02\n",
            "  5.54641726e-01]\n",
            " [1.07892827e-01 3.46229620e-01 5.83070582e-01 3.84507473e-01\n",
            "  4.14719465e-01]\n",
            " [3.40291639e-01 6.93948487e-01 5.62115571e-01 7.63824536e-01\n",
            "  9.43845020e-01]\n",
            " [7.05587706e-02 4.30713990e-01 3.76853781e-01 5.13516931e-01\n",
            "  1.92696234e-02]\n",
            " [3.33184233e-01 6.95477746e-01 4.94153393e-01 6.14496063e-03\n",
            "  2.51600663e-01]\n",
            " [8.08541095e-01 3.49878644e-01 2.63902262e-01 2.60552831e-01\n",
            "  7.56602619e-01]\n",
            " [6.10181042e-01 9.30483916e-01 7.33358371e-01 2.40072610e-01\n",
            "  8.06064546e-01]]\n"
          ]
        }
      ]
    },
    {
      "cell_type": "code",
      "source": [],
      "metadata": {
        "id": "vmyiiZYVQCgu"
      },
      "execution_count": null,
      "outputs": []
    }
  ]
}