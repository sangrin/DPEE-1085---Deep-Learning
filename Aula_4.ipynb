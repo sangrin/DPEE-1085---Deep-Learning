{
  "nbformat": 4,
  "nbformat_minor": 0,
  "metadata": {
    "colab": {
      "provenance": []
    },
    "kernelspec": {
      "name": "python3",
      "display_name": "Python 3"
    },
    "language_info": {
      "name": "python"
    }
  },
  "cells": [
    {
      "cell_type": "markdown",
      "source": [
        "\n",
        "Aula 4 - 27/09/22"
      ],
      "metadata": {
        "id": "sMewxS5K2i7r"
      }
    },
    {
      "cell_type": "code",
      "execution_count": 27,
      "metadata": {
        "colab": {
          "base_uri": "https://localhost:8080/"
        },
        "id": "R7RjDk0Hx4g5",
        "outputId": "5a8cd00d-d1f3-4b03-cef1-f29dbc968fce"
      },
      "outputs": [
        {
          "output_type": "stream",
          "name": "stdout",
          "text": [
            "-1.0\n"
          ]
        }
      ],
      "source": [
        "import numpy as np\n",
        "\n",
        "print(np.cos(np.pi))"
      ]
    },
    {
      "cell_type": "code",
      "source": [
        "from numpy import *\n",
        "\n",
        "print(pi)\n",
        "print(cos(pi))"
      ],
      "metadata": {
        "colab": {
          "base_uri": "https://localhost:8080/"
        },
        "id": "OKQ3vbfizycq",
        "outputId": "7db84f7d-0304-416c-baf3-b721169f41f5"
      },
      "execution_count": 28,
      "outputs": [
        {
          "output_type": "stream",
          "name": "stdout",
          "text": [
            "3.141592653589793\n",
            "-1.0\n"
          ]
        }
      ]
    },
    {
      "cell_type": "code",
      "source": [
        "from numpy import cos as cosseno\n",
        "from numpy import sin as seno\n",
        "from numpy import pi\n",
        "\n",
        "print(cosseno(pi))\n",
        "print(seno(pi)) #só é possível chamar as funçoes sem .np assim"
      ],
      "metadata": {
        "colab": {
          "base_uri": "https://localhost:8080/"
        },
        "id": "MgmWH-sm0xrS",
        "outputId": "005f905a-fc13-49de-f544-60a0498a5485"
      },
      "execution_count": 29,
      "outputs": [
        {
          "output_type": "stream",
          "name": "stdout",
          "text": [
            "-1.0\n",
            "1.2246467991473532e-16\n"
          ]
        }
      ]
    },
    {
      "cell_type": "code",
      "source": [
        "import numpy as np\n",
        "\n",
        "a = np.array([0,1,3,7,9,10])\n",
        "print(a)\n",
        "b = 0.7\n",
        "print(a*b)\n",
        "c = np.cos(a)\n",
        "print(c)"
      ],
      "metadata": {
        "colab": {
          "base_uri": "https://localhost:8080/"
        },
        "id": "Lf6OD3uz1TxC",
        "outputId": "0390da61-5270-4747-c1be-da0ed3fcc8a7"
      },
      "execution_count": 30,
      "outputs": [
        {
          "output_type": "stream",
          "name": "stdout",
          "text": [
            "[ 0  1  3  7  9 10]\n",
            "[0.  0.7 2.1 4.9 6.3 7. ]\n",
            "[ 1.          0.54030231 -0.9899925   0.75390225 -0.91113026 -0.83907153]\n"
          ]
        }
      ]
    },
    {
      "cell_type": "code",
      "source": [
        "def func(x):\n",
        "  return 3*x+1\n",
        "d = func(a)\n",
        "print(d)"
      ],
      "metadata": {
        "colab": {
          "base_uri": "https://localhost:8080/"
        },
        "id": "hYXZWoFw2c0H",
        "outputId": "911c97db-0e0b-47a8-8505-31436e1206e3"
      },
      "execution_count": 31,
      "outputs": [
        {
          "output_type": "stream",
          "name": "stdout",
          "text": [
            "[ 1  4 10 22 28 31]\n"
          ]
        }
      ]
    },
    {
      "cell_type": "code",
      "source": [
        "import numpy as np\n",
        "\n",
        "a1 = np.array([1,4,5,9,10])\n",
        "b1 = np.array([8,5,4,3,11])\n",
        "\n",
        "print(a1*b1) #produto vetorial\n",
        "np.dot(a1,b1) #produto escalar\n",
        "np.inner(a1,b1) #produto interno\n",
        "np.outer(a1,b1) #produto externo"
      ],
      "metadata": {
        "colab": {
          "base_uri": "https://localhost:8080/"
        },
        "id": "1EIAKKIz3m5z",
        "outputId": "18748fb2-71b4-4442-a8d6-02497798de60"
      },
      "execution_count": 32,
      "outputs": [
        {
          "output_type": "stream",
          "name": "stdout",
          "text": [
            "[  8  20  20  27 110]\n"
          ]
        },
        {
          "output_type": "execute_result",
          "data": {
            "text/plain": [
              "array([[  8,   5,   4,   3,  11],\n",
              "       [ 32,  20,  16,  12,  44],\n",
              "       [ 40,  25,  20,  15,  55],\n",
              "       [ 72,  45,  36,  27,  99],\n",
              "       [ 80,  50,  40,  30, 110]])"
            ]
          },
          "metadata": {},
          "execution_count": 32
        }
      ]
    },
    {
      "cell_type": "code",
      "source": [
        "import numpy as np\n",
        "\n",
        "x = np.array([[1,2,3],[4,5,6],[7,8,9]])\n",
        "print(a2)\n",
        "print(a2.shape)\n",
        "y = np.array([12,15,17])\n",
        "m = np.dot(x,y)\n",
        "print(m)"
      ],
      "metadata": {
        "colab": {
          "base_uri": "https://localhost:8080/"
        },
        "id": "E7RLYCzV49BM",
        "outputId": "f2bfc73e-719b-4bb2-cdc4-2ec60d7e1682"
      },
      "execution_count": 35,
      "outputs": [
        {
          "output_type": "stream",
          "name": "stdout",
          "text": [
            "[[1 2 3]\n",
            " [4 5 6]\n",
            " [7 8 9]]\n",
            "(3, 3)\n",
            "[ 93 225 357]\n"
          ]
        }
      ]
    },
    {
      "cell_type": "code",
      "source": [
        "import numpy as np\n",
        "\n",
        "matrizIdentidade = np.eye(3) #gera matriz identidade\n",
        "print(matrizIdentidade)\n",
        "\n",
        "matrizUnitaria = np.ones((7,9)) #gera matriz unitária\n",
        "print(matrizUnitaria)"
      ],
      "metadata": {
        "colab": {
          "base_uri": "https://localhost:8080/"
        },
        "id": "XDEr98O_6q__",
        "outputId": "5ff0d93c-e855-4738-b7ab-8ef7c638af4b"
      },
      "execution_count": 38,
      "outputs": [
        {
          "output_type": "stream",
          "name": "stdout",
          "text": [
            "[[1. 0. 0.]\n",
            " [0. 1. 0.]\n",
            " [0. 0. 1.]]\n",
            "[[1. 1. 1. 1. 1. 1. 1. 1. 1.]\n",
            " [1. 1. 1. 1. 1. 1. 1. 1. 1.]\n",
            " [1. 1. 1. 1. 1. 1. 1. 1. 1.]\n",
            " [1. 1. 1. 1. 1. 1. 1. 1. 1.]\n",
            " [1. 1. 1. 1. 1. 1. 1. 1. 1.]\n",
            " [1. 1. 1. 1. 1. 1. 1. 1. 1.]\n",
            " [1. 1. 1. 1. 1. 1. 1. 1. 1.]]\n"
          ]
        }
      ]
    },
    {
      "cell_type": "code",
      "source": [
        "import numpy as np\n",
        "\n",
        "matrizZeros = np.zeros((4,5)) #gera matriz de zeros\n",
        "print(matrizZeros)\n",
        "print(matrizZeros.T) #gera matriz transposta"
      ],
      "metadata": {
        "colab": {
          "base_uri": "https://localhost:8080/"
        },
        "id": "lEQNCXqp7UKO",
        "outputId": "f3f53f60-2ecf-46da-9660-428ef8d44575"
      },
      "execution_count": 42,
      "outputs": [
        {
          "output_type": "stream",
          "name": "stdout",
          "text": [
            "[[0. 0. 0. 0. 0.]\n",
            " [0. 0. 0. 0. 0.]\n",
            " [0. 0. 0. 0. 0.]\n",
            " [0. 0. 0. 0. 0.]]\n",
            "[[0. 0. 0. 0.]\n",
            " [0. 0. 0. 0.]\n",
            " [0. 0. 0. 0.]\n",
            " [0. 0. 0. 0.]\n",
            " [0. 0. 0. 0.]]\n"
          ]
        }
      ]
    },
    {
      "cell_type": "code",
      "source": [
        "import numpy as np\n",
        "\n",
        "matrizRange = np.linspace(5,20,40)\n",
        "print(matrizRange)"
      ],
      "metadata": {
        "colab": {
          "base_uri": "https://localhost:8080/"
        },
        "id": "8zvXL-kz8bP-",
        "outputId": "30a8e7ba-7e7a-49c4-8c45-9d20565c541b"
      },
      "execution_count": 46,
      "outputs": [
        {
          "output_type": "stream",
          "name": "stdout",
          "text": [
            "[ 5.          5.38461538  5.76923077  6.15384615  6.53846154  6.92307692\n",
            "  7.30769231  7.69230769  8.07692308  8.46153846  8.84615385  9.23076923\n",
            "  9.61538462 10.         10.38461538 10.76923077 11.15384615 11.53846154\n",
            " 11.92307692 12.30769231 12.69230769 13.07692308 13.46153846 13.84615385\n",
            " 14.23076923 14.61538462 15.         15.38461538 15.76923077 16.15384615\n",
            " 16.53846154 16.92307692 17.30769231 17.69230769 18.07692308 18.46153846\n",
            " 18.84615385 19.23076923 19.61538462 20.        ]\n"
          ]
        }
      ]
    },
    {
      "cell_type": "code",
      "source": [
        "import numpy as np\n",
        "from matplotlib import pyplot as plt\n",
        "\n",
        "x2 = np.linspace(0,4*np.pi,40) #parametros: elemento inicial, elemento final, numero de amostras\n",
        "y2 = np.sin(x2)\n",
        "print(y2)\n",
        "\n",
        "plt.plot(x2,y2)"
      ],
      "metadata": {
        "colab": {
          "base_uri": "https://localhost:8080/",
          "height": 456
        },
        "id": "fxTxyrnW9AbL",
        "outputId": "10fe10c9-27a6-44f0-fe65-56baffb39ed9"
      },
      "execution_count": 52,
      "outputs": [
        {
          "output_type": "stream",
          "name": "stdout",
          "text": [
            "[ 0.00000000e+00  3.16667994e-01  6.00742264e-01  8.22983866e-01\n",
            "  9.60518112e-01  9.99188998e-01  9.35016243e-01  7.74604962e-01\n",
            "  5.34465826e-01  2.39315664e-01 -8.04665687e-02 -3.91966610e-01\n",
            " -6.63122658e-01 -8.66025404e-01 -9.79790652e-01 -9.92708874e-01\n",
            " -9.03450435e-01 -7.21202447e-01 -4.64723172e-01 -1.60411281e-01\n",
            "  1.60411281e-01  4.64723172e-01  7.21202447e-01  9.03450435e-01\n",
            "  9.92708874e-01  9.79790652e-01  8.66025404e-01  6.63122658e-01\n",
            "  3.91966610e-01  8.04665687e-02 -2.39315664e-01 -5.34465826e-01\n",
            " -7.74604962e-01 -9.35016243e-01 -9.99188998e-01 -9.60518112e-01\n",
            " -8.22983866e-01 -6.00742264e-01 -3.16667994e-01 -4.89858720e-16]\n"
          ]
        },
        {
          "output_type": "execute_result",
          "data": {
            "text/plain": [
              "[<matplotlib.lines.Line2D at 0x7f466be153d0>]"
            ]
          },
          "metadata": {},
          "execution_count": 52
        },
        {
          "output_type": "display_data",
          "data": {
            "text/plain": [
              "<Figure size 432x288 with 1 Axes>"
            ],
            "image/png": "[encoded data removed]"
          },
          "metadata": {
            "needs_background": "light"
          }
        }
      ]
    },
    {
      "cell_type": "code",
      "source": [
        "import numpy as np\n",
        "\n",
        "frutas = ['banana','abacaxi','laranja','bergamota']\n",
        "\n",
        "for fruta in frutas:\n",
        "  print(fruta)"
      ],
      "metadata": {
        "colab": {
          "base_uri": "https://localhost:8080/"
        },
        "id": "dyJsEu8g74-o",
        "outputId": "21b9c18e-4563-4e4f-8f98-6feb7a7c373a"
      },
      "execution_count": 54,
      "outputs": [
        {
          "output_type": "stream",
          "name": "stdout",
          "text": [
            "banana\n",
            "abacaxi\n",
            "laranja\n",
            "bergamota\n"
          ]
        }
      ]
    },
    {
      "cell_type": "code",
      "source": [
        "import numpy as np\n",
        "\n",
        "coisas = ['banana', ['arroz', 'lentilha'],'abacaxi', 12, 'uva', 0.7, 'lima']\n",
        "\n",
        "for coisa in coisas:\n",
        "  print(coisa)"
      ],
      "metadata": {
        "colab": {
          "base_uri": "https://localhost:8080/"
        },
        "id": "LeOApNPr_PsX",
        "outputId": "25c2ac62-d25a-42c6-b921-ede540372d0a"
      },
      "execution_count": 55,
      "outputs": [
        {
          "output_type": "stream",
          "name": "stdout",
          "text": [
            "banana\n",
            "['arroz', 'lentilha']\n",
            "abacaxi\n",
            "12\n",
            "uva\n",
            "0.7\n",
            "lima\n"
          ]
        }
      ]
    }
  ]
}