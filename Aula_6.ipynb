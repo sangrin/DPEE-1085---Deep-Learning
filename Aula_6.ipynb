{
  "cells": [
    {
      "cell_type": "code",
      "execution_count": 1,
      "metadata": {
        "colab": {
          "base_uri": "https://localhost:8080/"
        },
        "id": "WLjZCklF5cpo",
        "outputId": "2fdf906f-5291-4385-d3c2-a0f5c901ada4"
      },
      "outputs": [
        {
          "output_type": "stream",
          "name": "stdout",
          "text": [
            "['a', 'b', 'c', 'd', 'e', 'f']\n",
            "['b', 'c']\n",
            "['a', 'b', 'c', 'd']\n",
            "['d', 'e', 'f']\n",
            "['a', 'b', 'c', 'd', 'e', 'f']\n",
            "['a', 'x', 'y', 'd', 'e', 'f']\n",
            "['a', 'x', 'y', 'd', 'e', 'f', 'g']\n"
          ]
        }
      ],
      "source": [
        "import numpy as np\n",
        "\n",
        "t = ['a','b','c','d','e','f']\n",
        "#nenhum printa o ultimo, n-1\n",
        "print(t)\n",
        "print(t[1:3]) #1 até 3, nao printa o ultimo\n",
        "print(t[:4])\n",
        "print(t[3:])\n",
        "print(t[:])\n",
        "t[1:3] = ['x','y']\n",
        "print(t)\n",
        "t.append('g') #inserir elemento na lista\n",
        "print(t)"
      ]
    },
    {
      "cell_type": "code",
      "execution_count": 3,
      "metadata": {
        "colab": {
          "base_uri": "https://localhost:8080/"
        },
        "id": "NQKQnZD65cpp",
        "outputId": "904be0af-fa85-4036-feb3-7cec9b242413"
      },
      "outputs": [
        {
          "output_type": "stream",
          "name": "stdout",
          "text": [
            "['a', 'b', 'c', 'd', 'p']\n"
          ]
        }
      ],
      "source": [
        "t1 = ['a','b','c']\n",
        "t2 = ['d','p']\n",
        "\n",
        "t1.extend(t2)\n",
        "print(t1)"
      ]
    },
    {
      "cell_type": "code",
      "execution_count": null,
      "metadata": {
        "id": "irk87lH95cpq"
      },
      "outputs": [],
      "source": [
        "t = ['d','e','a','c','b']\n",
        "print(t)\n",
        "t.sort()\n",
        "print(t)\n"
      ]
    },
    {
      "cell_type": "code",
      "execution_count": null,
      "metadata": {
        "id": "8DifbyGm5cpr"
      },
      "outputs": [],
      "source": [
        "t=['a','b','c']\n",
        "print(t)\n",
        "x = t.pop(1)\n",
        "print(t)"
      ]
    },
    {
      "cell_type": "code",
      "execution_count": null,
      "metadata": {
        "id": "JTOItRIf5cps"
      },
      "outputs": [],
      "source": [
        "t = ['a','b','c']\n",
        "print(t)\n",
        "del t[1]\n",
        "print(t)"
      ]
    },
    {
      "cell_type": "code",
      "execution_count": null,
      "metadata": {
        "id": "Z4OBD3aW5cpt"
      },
      "outputs": [],
      "source": [
        "t = ['a','b','c']\n",
        "print(t)\n",
        "t.remove('b')\n",
        "print(t)"
      ]
    },
    {
      "cell_type": "code",
      "execution_count": null,
      "metadata": {
        "id": "po9mydja5cpu"
      },
      "outputs": [],
      "source": [
        "eng2pt = dict()\n",
        "print(eng2pt)\n",
        "eng2pt['one'] = 'um'\n",
        "print(eng2pt)"
      ]
    },
    {
      "cell_type": "code",
      "source": [
        "eng2pt = dict()\n",
        "eng2pt = {'one':'um','two':'dois','three':'tres'}\n",
        "print(eng2pt)\n",
        "print(len(eng2pt))"
      ],
      "metadata": {
        "colab": {
          "base_uri": "https://localhost:8080/"
        },
        "id": "VwgyRYFJ5pdh",
        "outputId": "0d6fa294-a97d-4405-c2f4-3a8e18860f66"
      },
      "execution_count": 2,
      "outputs": [
        {
          "output_type": "stream",
          "name": "stdout",
          "text": [
            "{'one': 'um', 'two': 'dois', 'three': 'tres'}\n",
            "3\n"
          ]
        }
      ]
    },
    {
      "cell_type": "code",
      "source": [
        "word = 'brontosaurus'\n",
        "d = dict()\n",
        "\n",
        "for c in word:\n",
        "  if c not in d:\n",
        "    d[c] = 1\n",
        "  else:\n",
        "    d[c]=d[c]+1\n",
        "\n",
        "print(d)"
      ],
      "metadata": {
        "id": "5utQ5wDS6gVl"
      },
      "execution_count": 4,
      "outputs": []
    },
    {
      "cell_type": "code",
      "source": [
        "a2 = np.random.randint(10,20)\n",
        "print(a2)"
      ],
      "metadata": {
        "colab": {
          "base_uri": "https://localhost:8080/"
        },
        "id": "mQ2BXMre8YTk",
        "outputId": "c5b9641b-2fe1-4885-c58f-49fc24197631"
      },
      "execution_count": 8,
      "outputs": [
        {
          "output_type": "stream",
          "name": "stdout",
          "text": [
            "10\n"
          ]
        }
      ]
    },
    {
      "cell_type": "code",
      "source": [
        "frutas1 = ['abacaxi','laranja','bergamota','uva']\n",
        "np.random.choice(frutas1) #imprime um elemento aleatorio"
      ],
      "metadata": {
        "colab": {
          "base_uri": "https://localhost:8080/",
          "height": 35
        },
        "id": "nTcXQDEi8oo8",
        "outputId": "49d265d2-563c-4a05-df10-5c8baf749194"
      },
      "execution_count": 9,
      "outputs": [
        {
          "output_type": "execute_result",
          "data": {
            "text/plain": [
              "'uva'"
            ],
            "application/vnd.google.colaboratory.intrinsic+json": {
              "type": "string"
            }
          },
          "metadata": {},
          "execution_count": 9
        }
      ]
    },
    {
      "cell_type": "code",
      "source": [
        "a = np.random.random((4,5))\n",
        "print(a)\n",
        "b = np.sum(a) #soma os elementos de a\n",
        "print(b)\n",
        "c = np.max(a) #printa o maior elemento\n",
        "print(c)\n",
        "d = np.min(a) #printa o menor elemento\n",
        "print(d)"
      ],
      "metadata": {
        "colab": {
          "base_uri": "https://localhost:8080/"
        },
        "id": "7DNByaQW7Ikh",
        "outputId": "d0b63641-a66d-46a7-f09e-e266db9c7c27"
      },
      "execution_count": 14,
      "outputs": [
        {
          "output_type": "stream",
          "name": "stdout",
          "text": [
            "[[0.78759957 0.43923678 0.71895465 0.04329367 0.08201269]\n",
            " [0.17198675 0.56126757 0.23242305 0.91861681 0.07753139]\n",
            " [0.17064419 0.80144604 0.77640073 0.11590838 0.27868986]\n",
            " [0.2741527  0.96354158 0.46944953 0.23098183 0.05291372]]\n",
            "8.167051506632966\n",
            "0.9635415792743086\n",
            "0.04329367360189562\n"
          ]
        }
      ]
    },
    {
      "cell_type": "code",
      "source": [
        "a1 = np.random.random((4,5))\n",
        "print(a1)\n",
        "np.sum(a1,axis=0) #soma todos elementos de cada coluna"
      ],
      "metadata": {
        "colab": {
          "base_uri": "https://localhost:8080/"
        },
        "id": "H9QoRtsd-Tpp",
        "outputId": "c919fcbf-b429-4c80-a3f3-ed2c34b1085b"
      },
      "execution_count": 15,
      "outputs": [
        {
          "output_type": "stream",
          "name": "stdout",
          "text": [
            "[[0.12925691 0.63464454 0.69742453 0.7468021  0.46925964]\n",
            " [0.73910091 0.49734335 0.07901127 0.26771823 0.65871774]\n",
            " [0.15487718 0.21451351 0.69675529 0.77403372 0.74812727]\n",
            " [0.17766257 0.87007974 0.64795826 0.50436535 0.71318402]]\n"
          ]
        },
        {
          "output_type": "execute_result",
          "data": {
            "text/plain": [
              "array([1.20089757, 2.21658114, 2.12114935, 2.2929194 , 2.58928867])"
            ]
          },
          "metadata": {},
          "execution_count": 15
        }
      ]
    },
    {
      "cell_type": "code",
      "source": [
        "v1 = np.array([1,2,3,4])\n",
        "v2 = np.array([-1,-2,-3,-4])\n",
        "v1*v2 #multiplica  elemento por elemento\n"
      ],
      "metadata": {
        "colab": {
          "base_uri": "https://localhost:8080/"
        },
        "id": "j2bTp7Ix_IXk",
        "outputId": "10e2faf6-a553-4464-871c-ac7828d25c9d"
      },
      "execution_count": 18,
      "outputs": [
        {
          "output_type": "execute_result",
          "data": {
            "text/plain": [
              "array([ -1,  -4,  -9, -16])"
            ]
          },
          "metadata": {},
          "execution_count": 18
        }
      ]
    },
    {
      "cell_type": "code",
      "source": [
        "\n",
        "np.dot(v1,v2) #produto escalar"
      ],
      "metadata": {
        "colab": {
          "base_uri": "https://localhost:8080/"
        },
        "id": "PXOw2TdX_dID",
        "outputId": "9519b4f3-1065-40f0-9c32-e8b8f7c0332d"
      },
      "execution_count": 19,
      "outputs": [
        {
          "output_type": "execute_result",
          "data": {
            "text/plain": [
              "-30"
            ]
          },
          "metadata": {},
          "execution_count": 19
        }
      ]
    },
    {
      "cell_type": "code",
      "source": [
        "class Quadrado: #define a classe\n",
        "  lado=0        #atributo\n",
        "\n",
        "q1 = Quadrado()\n",
        "print(q1.lado)\n",
        "q1.lado=10\n",
        "print(q1.lado)\n",
        "\n",
        "q2 = Quadrado()\n",
        "q2.lado = 50\n",
        "print(q2.lado)"
      ],
      "metadata": {
        "colab": {
          "base_uri": "https://localhost:8080/"
        },
        "id": "GUQ7u04AAjb-",
        "outputId": "0a98acc5-893f-4409-c198-b5093a9ac188"
      },
      "execution_count": 22,
      "outputs": [
        {
          "output_type": "stream",
          "name": "stdout",
          "text": [
            "0\n",
            "10\n",
            "50\n"
          ]
        }
      ]
    },
    {
      "cell_type": "code",
      "source": [
        "class Quadrado:\n",
        "  lado=0\n",
        "\n",
        "def area(lado): #define a funcao\n",
        "  return lado**2 ####lado ao quadrado\n",
        "\n",
        "q2 = Quadrado() #cria objeto\n",
        "q2.lado = 7 \n",
        "\n",
        "print(area(q2.lado))\n"
      ],
      "metadata": {
        "colab": {
          "base_uri": "https://localhost:8080/"
        },
        "id": "0Xh_2Ja4B2HW",
        "outputId": "70017b06-59fb-4e06-fc07-0116b0ad3258"
      },
      "execution_count": 29,
      "outputs": [
        {
          "output_type": "stream",
          "name": "stdout",
          "text": [
            "49\n"
          ]
        }
      ]
    },
    {
      "cell_type": "code",
      "source": [
        "class Quadrado:\n",
        "  lado = 0\n",
        "  def area(self): #funcao faz parte da classe Quadrado\n",
        "    return self.lado**2\n",
        "\n",
        "q1 = Quadrado()\n",
        "q2 = Quadrado()\n",
        "\n",
        "q1.lado = 3\n",
        "q2.lado = 4\n",
        "\n",
        "print(q1.area())\n",
        "print(q2.area())"
      ],
      "metadata": {
        "colab": {
          "base_uri": "https://localhost:8080/"
        },
        "id": "l2vGv535DBs5",
        "outputId": "7a0efedd-773f-4cf3-cfc8-46f4daeca149"
      },
      "execution_count": 30,
      "outputs": [
        {
          "output_type": "stream",
          "name": "stdout",
          "text": [
            "9\n",
            "16\n"
          ]
        }
      ]
    }
  ],
  "metadata": {
    "kernelspec": {
      "display_name": "Python 3.10.7 64-bit (microsoft store)",
      "language": "python",
      "name": "python3"
    },
    "language_info": {
      "name": "python",
      "version": "3.10.7"
    },
    "orig_nbformat": 4,
    "vscode": {
      "interpreter": {
        "hash": "dcb3cdae59411add4611c1e6f4acab6a382fb12b1128f9e817a3fd145a0d3691"
      }
    },
    "colab": {
      "provenance": [],
      "collapsed_sections": []
    }
  },
  "nbformat": 4,
  "nbformat_minor": 0
}